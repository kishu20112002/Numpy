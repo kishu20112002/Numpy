{
 "cells": [
  {
   "cell_type": "markdown",
   "id": "1aa1ed7f-f247-47f2-b929-e38817875890",
   "metadata": {},
   "source": [
    "# Fundaments"
   ]
  },
  {
   "cell_type": "markdown",
   "id": "795777ba-2982-424e-bcff-2def936eee20",
   "metadata": {},
   "source": [
    "### 1. Creating numpy array\n",
    "- We can create numpy array by using array(p) function.\n",
    "- Internally it creates object to ndarray\n",
    "- We can pass list, tuple etc as a parameter to the array(p) Function.\n",
    "- Having same type of values is recommended"
   ]
  },
  {
   "cell_type": "markdown",
   "id": "4478bb73-f5a6-4594-a50a-a55dbe9d0720",
   "metadata": {},
   "source": [
    "### 2 numpy.ndim\n",
    "- Ndim is predefined variable in numpy\n",
    "- By using this we can check the array dimensions."
   ]
  },
  {
   "cell_type": "code",
   "execution_count": 1,
   "id": "8cc51f83-7a21-4955-bb30-833a5ce00540",
   "metadata": {},
   "outputs": [
    {
     "name": "stdout",
     "output_type": "stream",
     "text": [
      "44\n",
      "<class 'numpy.ndarray'>\n",
      "0\n"
     ]
    }
   ],
   "source": [
    "# creating numpy array with single values\n",
    "\n",
    "import numpy as np\n",
    "\n",
    "age=44\n",
    "value=np.array(age)\n",
    "\n",
    "print(value)\n",
    "print(type(value))\n",
    "print(value.ndim)"
   ]
  },
  {
   "cell_type": "code",
   "execution_count": 2,
   "id": "650feedb-b3ca-4a9a-84be-5135ddb262d3",
   "metadata": {},
   "outputs": [
    {
     "name": "stdout",
     "output_type": "stream",
     "text": [
      "[10 20 30 40 50]\n",
      "<class 'numpy.ndarray'>\n",
      "1\n"
     ]
    }
   ],
   "source": [
    "# Creating numpy array with group of values\n",
    "\n",
    "import numpy as np\n",
    "\n",
    "n=[10,20,30,40,50]\n",
    "sales=np.array(n)\n",
    "\n",
    "print(sales)\n",
    "print(type(sales))\n",
    "print(sales.ndim)"
   ]
  },
  {
   "cell_type": "code",
   "execution_count": 3,
   "id": "a4bf4d4d-8e63-4a0f-b07c-2f95fe9adda7",
   "metadata": {},
   "outputs": [
    {
     "name": "stdout",
     "output_type": "stream",
     "text": [
      "[1 2 3 4 5]\n",
      "<class 'numpy.ndarray'>\n",
      "1\n"
     ]
    }
   ],
   "source": [
    "# Creating numpy array with group of values\n",
    "\n",
    "import numpy as np\n",
    "\n",
    "a=[1,2,3,4,5]\n",
    "n=np.array(a)\n",
    "\n",
    "print(n)\n",
    "print(type(n))\n",
    "print(n.ndim)"
   ]
  },
  {
   "cell_type": "code",
   "execution_count": 5,
   "id": "f920266a-0b9b-413e-9b87-24fd8c67104b",
   "metadata": {},
   "outputs": [
    {
     "name": "stdout",
     "output_type": "stream",
     "text": [
      "[[ 1  2]\n",
      " [30 40]]\n",
      "<class 'numpy.ndarray'>\n",
      "2\n"
     ]
    }
   ],
   "source": [
    "# Creating numpy array with group of values\n",
    "\n",
    "import numpy as np\n",
    "\n",
    "details=[[1,2],[30,40]]\n",
    "sales=np.array(details)\n",
    "\n",
    "print(sales)\n",
    "print(type(sales))\n",
    "print(sales.ndim)"
   ]
  },
  {
   "cell_type": "code",
   "execution_count": 7,
   "id": "657f07ae-8ff1-482a-8bd8-ceb0ba603e82",
   "metadata": {},
   "outputs": [
    {
     "name": "stdout",
     "output_type": "stream",
     "text": [
      "[[ 1  2]\n",
      " [30 40]\n",
      " [30 23]]\n",
      "<class 'numpy.ndarray'>\n",
      "2\n"
     ]
    }
   ],
   "source": [
    "# Creating numpy array with group of values\n",
    "\n",
    "import numpy as np\n",
    "\n",
    "details=[[1,2],[30,40],[30,23]]\n",
    "sales=np.array(details)\n",
    "\n",
    "print(sales)\n",
    "print(type(sales))\n",
    "print(sales.ndim)"
   ]
  },
  {
   "cell_type": "code",
   "execution_count": 8,
   "id": "2843492f-7ed9-4c79-80c2-59917e0c0223",
   "metadata": {},
   "outputs": [
    {
     "name": "stdout",
     "output_type": "stream",
     "text": [
      "[[ 1  2  3]\n",
      " [30 40 50]\n",
      " [30 23 50]]\n",
      "<class 'numpy.ndarray'>\n",
      "2\n"
     ]
    }
   ],
   "source": [
    "# Creating numpy array with group of values\n",
    "\n",
    "import numpy as np\n",
    "\n",
    "details=[[1,2,3],[30,40,50],[30,23,50]]\n",
    "sales=np.array(details)\n",
    "\n",
    "print(sales)\n",
    "print(type(sales))\n",
    "print(sales.ndim)"
   ]
  },
  {
   "cell_type": "code",
   "execution_count": 18,
   "id": "ff1ac541-6fcd-488d-a485-3c94e664934c",
   "metadata": {},
   "outputs": [
    {
     "name": "stdout",
     "output_type": "stream",
     "text": [
      "[[5.1 3.5 1.4 0.2 'setosa']\n",
      " [4.9 3.0 1.4 0.2 'setosa']\n",
      " [4.7 3.2 1.3 0.2 'setosa']\n",
      " [4.6 3.1 1.5 0.2 'setosa']\n",
      " [5.0 3.6 1.4 0.2 'setosa']\n",
      " [5.4 3.9 1.7 0.4 'setosa']\n",
      " [4.6 3.4 1.4 0.3 'setosa']\n",
      " [5.0 3.4 1.5 0.2 'setosa']\n",
      " [4.4 2.9 1.4 0.2 'setosa']\n",
      " [4.9 3.1 1.5 0.1 'setosa']\n",
      " [5.4 3.7 1.5 0.2 'setosa']\n",
      " [4.8 3.4 1.6 0.2 'setosa']\n",
      " [4.8 3.0 1.4 0.1 'setosa']\n",
      " [4.3 3.0 1.1 0.1 'setosa']\n",
      " [5.8 4.0 1.2 0.2 'setosa']\n",
      " [5.7 4.4 1.5 0.4 'setosa']\n",
      " [5.4 3.9 1.3 0.4 'setosa']\n",
      " [5.1 3.5 1.4 0.3 'setosa']\n",
      " [5.7 3.8 1.7 0.3 'setosa']\n",
      " [5.1 3.8 1.5 0.3 'setosa']\n",
      " [5.4 3.4 1.7 0.2 'setosa']\n",
      " [5.1 3.7 1.5 0.4 'setosa']\n",
      " [4.6 3.6 1.0 0.2 'setosa']\n",
      " [5.1 3.3 1.7 0.5 'setosa']\n",
      " [4.8 3.4 1.9 0.2 'setosa']\n",
      " [5.0 3.0 1.6 0.2 'setosa']\n",
      " [5.0 3.4 1.6 0.4 'setosa']\n",
      " [5.2 3.5 1.5 0.2 'setosa']\n",
      " [5.2 3.4 1.4 0.2 'setosa']\n",
      " [4.7 3.2 1.6 0.2 'setosa']\n",
      " [4.8 3.1 1.6 0.2 'setosa']\n",
      " [5.4 3.4 1.5 0.4 'setosa']\n",
      " [5.2 4.1 1.5 0.1 'setosa']\n",
      " [5.5 4.2 1.4 0.2 'setosa']\n",
      " [4.9 3.1 1.5 0.1 'setosa']\n",
      " [5.0 3.2 1.2 0.2 'setosa']\n",
      " [5.5 3.5 1.3 0.2 'setosa']\n",
      " [4.9 3.1 1.5 0.1 'setosa']\n",
      " [4.4 3.0 1.3 0.2 'setosa']\n",
      " [5.1 3.4 1.5 0.2 'setosa']\n",
      " [5.0 3.5 1.3 0.3 'setosa']\n",
      " [4.5 2.3 1.3 0.3 'setosa']\n",
      " [4.4 3.2 1.3 0.2 'setosa']\n",
      " [5.0 3.5 1.6 0.6 'setosa']\n",
      " [5.1 3.8 1.9 0.4 'setosa']\n",
      " [4.8 3.0 1.4 0.3 'setosa']\n",
      " [5.1 3.8 1.6 0.2 'setosa']\n",
      " [4.6 3.2 1.4 0.2 'setosa']\n",
      " [5.3 3.7 1.5 0.2 'setosa']\n",
      " [5.0 3.3 1.4 0.2 'setosa']\n",
      " [7.0 3.2 4.7 1.4 'versicolor']\n",
      " [6.4 3.2 4.5 1.5 'versicolor']\n",
      " [6.9 3.1 4.9 1.5 'versicolor']\n",
      " [5.5 2.3 4.0 1.3 'versicolor']\n",
      " [6.5 2.8 4.6 1.5 'versicolor']\n",
      " [5.7 2.8 4.5 1.3 'versicolor']\n",
      " [6.3 3.3 4.7 1.6 'versicolor']\n",
      " [4.9 2.4 3.3 1.0 'versicolor']\n",
      " [6.6 2.9 4.6 1.3 'versicolor']\n",
      " [5.2 2.7 3.9 1.4 'versicolor']\n",
      " [5.0 2.0 3.5 1.0 'versicolor']\n",
      " [5.9 3.0 4.2 1.5 'versicolor']\n",
      " [6.0 2.2 4.0 1.0 'versicolor']\n",
      " [6.1 2.9 4.7 1.4 'versicolor']\n",
      " [5.6 2.9 3.6 1.3 'versicolor']\n",
      " [6.7 3.1 4.4 1.4 'versicolor']\n",
      " [5.6 3.0 4.5 1.5 'versicolor']\n",
      " [5.8 2.7 4.1 1.0 'versicolor']\n",
      " [6.2 2.2 4.5 1.5 'versicolor']\n",
      " [5.6 2.5 3.9 1.1 'versicolor']\n",
      " [5.9 3.2 4.8 1.8 'versicolor']\n",
      " [6.1 2.8 4.0 1.3 'versicolor']\n",
      " [6.3 2.5 4.9 1.5 'versicolor']\n",
      " [6.1 2.8 4.7 1.2 'versicolor']\n",
      " [6.4 2.9 4.3 1.3 'versicolor']\n",
      " [6.6 3.0 4.4 1.4 'versicolor']\n",
      " [6.8 2.8 4.8 1.4 'versicolor']\n",
      " [6.7 3.0 5.0 1.7 'versicolor']\n",
      " [6.0 2.9 4.5 1.5 'versicolor']\n",
      " [5.7 2.6 3.5 1.0 'versicolor']\n",
      " [5.5 2.4 3.8 1.1 'versicolor']\n",
      " [5.5 2.4 3.7 1.0 'versicolor']\n",
      " [5.8 2.7 3.9 1.2 'versicolor']\n",
      " [6.0 2.7 5.1 1.6 'versicolor']\n",
      " [5.4 3.0 4.5 1.5 'versicolor']\n",
      " [6.0 3.4 4.5 1.6 'versicolor']\n",
      " [6.7 3.1 4.7 1.5 'versicolor']\n",
      " [6.3 2.3 4.4 1.3 'versicolor']\n",
      " [5.6 3.0 4.1 1.3 'versicolor']\n",
      " [5.5 2.5 4.0 1.3 'versicolor']\n",
      " [5.5 2.6 4.4 1.2 'versicolor']\n",
      " [6.1 3.0 4.6 1.4 'versicolor']\n",
      " [5.8 2.6 4.0 1.2 'versicolor']\n",
      " [5.0 2.3 3.3 1.0 'versicolor']\n",
      " [5.6 2.7 4.2 1.3 'versicolor']\n",
      " [5.7 3.0 4.2 1.2 'versicolor']\n",
      " [5.7 2.9 4.2 1.3 'versicolor']\n",
      " [6.2 2.9 4.3 1.3 'versicolor']\n",
      " [5.1 2.5 3.0 1.1 'versicolor']\n",
      " [5.7 2.8 4.1 1.3 'versicolor']\n",
      " [6.3 3.3 6.0 2.5 'virginica']\n",
      " [5.8 2.7 5.1 1.9 'virginica']\n",
      " [7.1 3.0 5.9 2.1 'virginica']\n",
      " [6.3 2.9 5.6 1.8 'virginica']\n",
      " [6.5 3.0 5.8 2.2 'virginica']\n",
      " [7.6 3.0 6.6 2.1 'virginica']\n",
      " [4.9 2.5 4.5 1.7 'virginica']\n",
      " [7.3 2.9 6.3 1.8 'virginica']\n",
      " [6.7 2.5 5.8 1.8 'virginica']\n",
      " [7.2 3.6 6.1 2.5 'virginica']\n",
      " [6.5 3.2 5.1 2.0 'virginica']\n",
      " [6.4 2.7 5.3 1.9 'virginica']\n",
      " [6.8 3.0 5.5 2.1 'virginica']\n",
      " [5.7 2.5 5.0 2.0 'virginica']\n",
      " [5.8 2.8 5.1 2.4 'virginica']\n",
      " [6.4 3.2 5.3 2.3 'virginica']\n",
      " [6.5 3.0 5.5 1.8 'virginica']\n",
      " [7.7 3.8 6.7 2.2 'virginica']\n",
      " [7.7 2.6 6.9 2.3 'virginica']\n",
      " [6.0 2.2 5.0 1.5 'virginica']\n",
      " [6.9 3.2 5.7 2.3 'virginica']\n",
      " [5.6 2.8 4.9 2.0 'virginica']\n",
      " [7.7 2.8 6.7 2.0 'virginica']\n",
      " [6.3 2.7 4.9 1.8 'virginica']\n",
      " [6.7 3.3 5.7 2.1 'virginica']\n",
      " [7.2 3.2 6.0 1.8 'virginica']\n",
      " [6.2 2.8 4.8 1.8 'virginica']\n",
      " [6.1 3.0 4.9 1.8 'virginica']\n",
      " [6.4 2.8 5.6 2.1 'virginica']\n",
      " [7.2 3.0 5.8 1.6 'virginica']\n",
      " [7.4 2.8 6.1 1.9 'virginica']\n",
      " [7.9 3.8 6.4 2.0 'virginica']\n",
      " [6.4 2.8 5.6 2.2 'virginica']\n",
      " [6.3 2.8 5.1 1.5 'virginica']\n",
      " [6.1 2.6 5.6 1.4 'virginica']\n",
      " [7.7 3.0 6.1 2.3 'virginica']\n",
      " [6.3 3.4 5.6 2.4 'virginica']\n",
      " [6.4 3.1 5.5 1.8 'virginica']\n",
      " [6.0 3.0 4.8 1.8 'virginica']\n",
      " [6.9 3.1 5.4 2.1 'virginica']\n",
      " [6.7 3.1 5.6 2.4 'virginica']\n",
      " [6.9 3.1 5.1 2.3 'virginica']\n",
      " [5.8 2.7 5.1 1.9 'virginica']\n",
      " [6.8 3.2 5.9 2.3 'virginica']\n",
      " [6.7 3.3 5.7 2.5 'virginica']\n",
      " [6.7 3.0 5.2 2.3 'virginica']\n",
      " [6.3 2.5 5.0 1.9 'virginica']\n",
      " [6.5 3.0 5.2 2.0 'virginica']\n",
      " [6.2 3.4 5.4 2.3 'virginica']\n",
      " [5.9 3.0 5.1 1.8 'virginica']]\n",
      "<class 'pandas.core.frame.DataFrame'>\n"
     ]
    }
   ],
   "source": [
    "#\n",
    "import pandas as pd\n",
    "import numpy as np\n",
    "\n",
    "df=pd.read_csv('/Users/apple/Downloads/iris.csv')\n",
    "print(df.values)\n",
    "print(type(df))"
   ]
  },
  {
   "cell_type": "markdown",
   "id": "cdffaa1f-c90a-4a94-8d35-8bc5c623ea2c",
   "metadata": {},
   "source": [
    "### 3 Indexing and Slicing \n",
    "- We can access numpy array values by using indexing and slicing\n",
    "- Numpy array having indexing nature\n",
    "- Numpy array index start with 0\n",
    "  1. First elements stores in 0th index\n",
    "  2. Second elements stores in 1th index etc\n",
    "- By using slicing we can access piece of array from the main array"
   ]
  },
  {
   "cell_type": "code",
   "execution_count": 19,
   "id": "22e2f50b-9dd5-4670-b5dc-ba269970f38a",
   "metadata": {},
   "outputs": [
    {
     "name": "stdout",
     "output_type": "stream",
     "text": [
      "10\n",
      "20\n",
      "30\n"
     ]
    }
   ],
   "source": [
    "# Accessing numpy array by using indexing \n",
    "\n",
    "import numpy as np \n",
    "d=[10,20,30,40,50]\n",
    "s=np.array(d)\n",
    "\n",
    "print(s[0])\n",
    "print(s[1])\n",
    "print(s[2])"
   ]
  },
  {
   "cell_type": "code",
   "execution_count": 20,
   "id": "1473eba4-4062-4191-aa71-358a626d9e40",
   "metadata": {},
   "outputs": [
    {
     "name": "stdout",
     "output_type": "stream",
     "text": [
      "[10, 20, 30, 40, 50]\n",
      "[30 40 50]\n"
     ]
    }
   ],
   "source": [
    "# Accessing numpy array by using indexing \n",
    "\n",
    "import numpy as np\n",
    "\n",
    "d=[10,20,30,40,50]\n",
    "s=np.array(d)\n",
    "\n",
    "print(d)\n",
    "print(s[2:])"
   ]
  },
  {
   "cell_type": "code",
   "execution_count": 25,
   "id": "f45888f0-32f4-4b73-9d21-d32bbc92d2fc",
   "metadata": {},
   "outputs": [
    {
     "name": "stdout",
     "output_type": "stream",
     "text": [
      "[[10 20 30]\n",
      " [40 50 60]\n",
      " [70 80 90]]\n",
      "10\n",
      "20\n"
     ]
    }
   ],
   "source": [
    "# Creating matrix and selecting elements\n",
    "\n",
    "import numpy as np\n",
    "\n",
    "m=np.array([[10,20,30],[40,50,60],[70,80,90]])\n",
    "\n",
    "print(m)\n",
    "\n",
    "print(m[0,0])\n",
    "print(m[0,1])"
   ]
  },
  {
   "cell_type": "markdown",
   "id": "af716f53-c6b1-4119-85a6-867d67da5076",
   "metadata": {},
   "source": [
    "### Index Error\n",
    "- If we try to access value with out of bounds of index then we will get IndexError"
   ]
  },
  {
   "cell_type": "code",
   "execution_count": 28,
   "id": "c921e608-6df2-4e55-896d-012de4d3d367",
   "metadata": {},
   "outputs": [
    {
     "ename": "IndexError",
     "evalue": "index 22 is out of bounds for axis 0 with size 5",
     "output_type": "error",
     "traceback": [
      "\u001b[0;31m---------------------------------------------------------------------------\u001b[0m",
      "\u001b[0;31mIndexError\u001b[0m                                Traceback (most recent call last)",
      "Cell \u001b[0;32mIn[28], line 7\u001b[0m\n\u001b[1;32m      4\u001b[0m d\u001b[38;5;241m=\u001b[39m[\u001b[38;5;241m10\u001b[39m,\u001b[38;5;241m12\u001b[39m,\u001b[38;5;241m14\u001b[39m,\u001b[38;5;241m16\u001b[39m,\u001b[38;5;241m18\u001b[39m]\n\u001b[1;32m      5\u001b[0m s\u001b[38;5;241m=\u001b[39mnp\u001b[38;5;241m.\u001b[39marray(d)\n\u001b[0;32m----> 7\u001b[0m \u001b[38;5;28mprint\u001b[39m(s[\u001b[38;5;241m22\u001b[39m])\n",
      "\u001b[0;31mIndexError\u001b[0m: index 22 is out of bounds for axis 0 with size 5"
     ]
    }
   ],
   "source": [
    "# Accessing numpy array values\n",
    "\n",
    "import numpy as np\n",
    "d=[10,12,14,16,18]\n",
    "s=np.array(d)\n",
    "\n",
    "print(s[22])"
   ]
  },
  {
   "cell_type": "markdown",
   "id": "34c0bff0-ca50-46d4-957f-c3155906baeb",
   "metadata": {},
   "source": [
    "### 4 Creating a array with all zeros \n",
    "- We can create array with all zeros by using numpy.zeros()function"
   ]
  },
  {
   "cell_type": "code",
   "execution_count": 30,
   "id": "8f6d53e6-c37e-445d-9d0f-559bf98f915a",
   "metadata": {},
   "outputs": [
    {
     "name": "stdout",
     "output_type": "stream",
     "text": [
      "[0. 0. 0. 0. 0.]\n",
      "<class 'numpy.ndarray'>\n"
     ]
    }
   ],
   "source": [
    "# Creating numpy array with group of values\n",
    "\n",
    "import numpy as np\n",
    "\n",
    "sales=np.zeros(5)\n",
    "\n",
    "print(sales)\n",
    "print(type(sales))"
   ]
  },
  {
   "cell_type": "markdown",
   "id": "9133c24b-c87f-4a8f-be8a-d894e3b57121",
   "metadata": {},
   "source": [
    "### 5 Creating a array with all ones\n",
    "- We can create array with all ones by using numpy.ones()function"
   ]
  },
  {
   "cell_type": "code",
   "execution_count": 32,
   "id": "234dddc6-d678-424d-a12b-4bf1a139ab0a",
   "metadata": {},
   "outputs": [
    {
     "name": "stdout",
     "output_type": "stream",
     "text": [
      "[1. 1. 1. 1. 1.]\n",
      "<class 'numpy.ndarray'>\n"
     ]
    }
   ],
   "source": [
    "# Creating numpy array with group of values\n",
    "\n",
    "import numpy as np\n",
    "\n",
    "sales=np.ones(5)\n",
    "\n",
    "print(sales)\n",
    "print(type(sales))"
   ]
  },
  {
   "cell_type": "code",
   "execution_count": null,
   "id": "fedd786e-b2cf-4f1a-b489-023d8aa034d6",
   "metadata": {},
   "outputs": [],
   "source": []
  }
 ],
 "metadata": {
  "kernelspec": {
   "display_name": "Python 3 (ipykernel)",
   "language": "python",
   "name": "python3"
  },
  "language_info": {
   "codemirror_mode": {
    "name": "ipython",
    "version": 3
   },
   "file_extension": ".py",
   "mimetype": "text/x-python",
   "name": "python",
   "nbconvert_exporter": "python",
   "pygments_lexer": "ipython3",
   "version": "3.13.5"
  }
 },
 "nbformat": 4,
 "nbformat_minor": 5
}
