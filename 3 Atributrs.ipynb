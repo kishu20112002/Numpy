{
 "cells": [
  {
   "cell_type": "markdown",
   "id": "31485911-9762-4fab-bb1c-87520e32d184",
   "metadata": {},
   "source": [
    "# 3 Numpy ATRIBUTES"
   ]
  },
  {
   "cell_type": "markdown",
   "id": "bd2e2846-d727-4d07-8f37-7158183e4fae",
   "metadata": {},
   "source": [
    "### 1. Numpy Array Attributes\n",
    "- Numpy array having predefined attributes to helps to understand the essentials functionality"
   ]
  },
  {
   "cell_type": "markdown",
   "id": "862e1d69-b06a-4f28-bb0a-0ccb3c4f905a",
   "metadata": {},
   "source": [
    "### 2. shape attribute\n",
    "- shape is a predefined attributes in numpy array.\n",
    "- We should access this shape attribute by using numpy array object\n",
    "- By using this we can check number of rows and columns in an array\n",
    "- Shape attribute returns the tuple as number of rows and column"
   ]
  },
  {
   "cell_type": "code",
   "execution_count": 2,
   "id": "4e5e6116-7001-48f2-93cd-731651212938",
   "metadata": {},
   "outputs": [
    {
     "name": "stdout",
     "output_type": "stream",
     "text": [
      "[[1 2]\n",
      " [3 4]\n",
      " [5 6]]\n",
      "(3, 2)\n"
     ]
    }
   ],
   "source": [
    "# Creating numpy array with group of values\n",
    "\n",
    "import numpy as np\n",
    "\n",
    "a=[[1,2],[3,4],[5,6]]\n",
    "s=np.array(a)\n",
    "\n",
    "print(s)\n",
    "print(s.shape)"
   ]
  },
  {
   "cell_type": "markdown",
   "id": "dbe7af21-eccb-4585-86c6-7bffaf614f29",
   "metadata": {},
   "source": [
    "### 3 ndim attribute\n",
    "- ndim is a predefined attribute in numpy array.\n",
    "- We should access this ndim attribute by using numpy array object\n",
    "- By using this we can check the dimensions of an array"
   ]
  },
  {
   "cell_type": "code",
   "execution_count": 4,
   "id": "f6c6a88c-0936-45ef-8cc0-efb817c55da7",
   "metadata": {},
   "outputs": [
    {
     "name": "stdout",
     "output_type": "stream",
     "text": [
      "[10 20 30 40 50]\n",
      "1\n"
     ]
    }
   ],
   "source": [
    "# Creating numpy array check with ndim attribute\n",
    "\n",
    "import numpy as np\n",
    "\n",
    "d=[10,20,30,40,50]\n",
    "s=np.array(d)\n",
    "\n",
    "print(s)\n",
    "print(s.ndim)"
   ]
  },
  {
   "cell_type": "markdown",
   "id": "fa320156-3564-471c-8522-3173fdb275ea",
   "metadata": {},
   "source": [
    "### 4 arrayobject.T\n",
    "- T is a predefined attribute in numpy array.\n",
    "- We should access this T attribute by using numpy array object\n",
    "- By using this we can transpose the array means it convers rows as columns and columns as rows"
   ]
  },
  {
   "cell_type": "code",
   "execution_count": 12,
   "id": "a956fdc0-e404-404a-a169-47bdb5d458be",
   "metadata": {},
   "outputs": [
    {
     "name": "stdout",
     "output_type": "stream",
     "text": [
      "[[10, 20, 30], [40, 50, 60]]\n",
      "\n",
      "\n",
      "[[10 40]\n",
      " [20 50]\n",
      " [30 60]]\n"
     ]
    }
   ],
   "source": [
    "# T attribute\n",
    "import numpy as np\n",
    "\n",
    "d=[[10,20,30],[40,50,60]]\n",
    "s=np.array(d)\n",
    "print(d)\n",
    "print()\n",
    "print()\n",
    "print(s.T)"
   ]
  },
  {
   "cell_type": "code",
   "execution_count": null,
   "id": "f9f3ba97-724f-45a0-9e3b-fb78bc4a8308",
   "metadata": {},
   "outputs": [],
   "source": []
  }
 ],
 "metadata": {
  "kernelspec": {
   "display_name": "Python 3 (ipykernel)",
   "language": "python",
   "name": "python3"
  },
  "language_info": {
   "codemirror_mode": {
    "name": "ipython",
    "version": 3
   },
   "file_extension": ".py",
   "mimetype": "text/x-python",
   "name": "python",
   "nbconvert_exporter": "python",
   "pygments_lexer": "ipython3",
   "version": "3.13.5"
  }
 },
 "nbformat": 4,
 "nbformat_minor": 5
}
