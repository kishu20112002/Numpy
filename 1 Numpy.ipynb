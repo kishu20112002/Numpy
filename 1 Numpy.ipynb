{
 "cells": [
  {
   "cell_type": "markdown",
   "id": "a9bb10f8-bfd6-452d-b33e-b0255643636f",
   "metadata": {},
   "source": [
    "#  Numpy - Introduction"
   ]
  },
  {
   "cell_type": "markdown",
   "id": "34c709e0-e5be-4fbc-b905-dd6f84009b99",
   "metadata": {},
   "source": [
    "### 1. Numpy\n",
    "- NumPy is the fundamental package for scientificc computing in python\n",
    "- It is a python library that provides multidimensional array object\n",
    "- The full form of numpy is 'Numerical Python'.\n",
    "- Numpy was created by Travis Oilphant\n",
    "\n",
    "### 2. What is an array?\n",
    "- Array is an object which stores a group of values\n",
    "- Also called as , ordered collection of values\n",
    "- Array can store same type of values\n",
    "\n",
    "### 3. Why to use numpy array .?\n",
    "- Python list are a bit slow in process\n",
    "- Numpy arrays are faster than python list.\n",
    "- The array object in numpy is called as ndarray.\n",
    "\n",
    "### 4 Open source\n",
    "- Numpy is an open source means its free.\n",
    "\n",
    "### 5 numpy - installation\n",
    "- By default numpy will not be available with python installation.\n",
    "- Explicitly we need to insatll numpy package\n",
    "- Run below command in command prompt\n"
   ]
  },
  {
   "cell_type": "code",
   "execution_count": 1,
   "id": "1654620c-965e-432b-a5c0-6a23e2c2cede",
   "metadata": {},
   "outputs": [
    {
     "name": "stdout",
     "output_type": "stream",
     "text": [
      "Requirement already satisfied: numpy in /opt/anaconda3/lib/python3.13/site-packages (2.1.3)\n",
      "Note: you may need to restart the kernel to use updated packages.\n"
     ]
    }
   ],
   "source": [
    "pip install numpy"
   ]
  },
  {
   "cell_type": "markdown",
   "id": "e0a000d2-08f7-4145-a862-80772674bfa0",
   "metadata": {},
   "source": [
    "### 6 pip command in python\n",
    "- pip stands for python installer package\n",
    "- pip is a package mangements system\n",
    "- It is used to install and manage software packages\n",
    "  1. pip install package_name\n",
    "  2. pip install numpy\n",
    "\n",
    "### 7 check installed python library\n",
    "- We can check installed python library by using below command\n",
    "- pip show numpy"
   ]
  },
  {
   "cell_type": "code",
   "execution_count": 1,
   "id": "be72d546-775d-4b65-875b-fb13309914ba",
   "metadata": {},
   "outputs": [
    {
     "name": "stdout",
     "output_type": "stream",
     "text": [
      "Name: numpy\n",
      "Version: 2.1.3\n",
      "Summary: Fundamental package for array computing in Python\n",
      "Home-page: https://numpy.org\n",
      "Author: Travis E. Oliphant et al.\n",
      "Author-email: \n",
      "License: Copyright (c) 2005-2024, NumPy Developers.\n",
      " All rights reserved.\n",
      "\n",
      " Redistribution and use in source and binary forms, with or without\n",
      " modification, are permitted provided that the following conditions are\n",
      " met:\n",
      "\n",
      "     * Redistributions of source code must retain the above copyright\n",
      "        notice, this list of conditions and the following disclaimer.\n",
      "\n",
      "     * Redistributions in binary form must reproduce the above\n",
      "        copyright notice, this list of conditions and the following\n",
      "        disclaimer in the documentation and/or other materials provided\n",
      "        with the distribution.\n",
      "\n",
      "     * Neither the name of the NumPy Developers nor the names of any\n",
      "        contributors may be used to endorse or promote products derived\n",
      "        from this software without specific prior written permission.\n",
      "\n",
      " THIS SOFTWARE IS PROVIDED BY THE COPYRIGHT HOLDERS AND CONTRIBUTORS\n",
      " \"AS IS\" AND ANY EXPRESS OR IMPLIED WARRANTIES, INCLUDING, BUT NOT\n",
      " LIMITED TO, THE IMPLIED WARRANTIES OF MERCHANTABILITY AND FITNESS FOR\n",
      " A PARTICULAR PURPOSE ARE DISCLAIMED. IN NO EVENT SHALL THE COPYRIGHT\n",
      " OWNER OR CONTRIBUTORS BE LIABLE FOR ANY DIRECT, INDIRECT, INCIDENTAL,\n",
      " SPECIAL, EXEMPLARY, OR CONSEQUENTIAL DAMAGES (INCLUDING, BUT NOT\n",
      " LIMITED TO, PROCUREMENT OF SUBSTITUTE GOODS OR SERVICES; LOSS OF USE,\n",
      " DATA, OR PROFITS; OR BUSINESS INTERRUPTION) HOWEVER CAUSED AND ON ANY\n",
      " THEORY OF LIABILITY, WHETHER IN CONTRACT, STRICT LIABILITY, OR TORT\n",
      " (INCLUDING NEGLIGENCE OR OTHERWISE) ARISING IN ANY WAY OUT OF THE USE\n",
      " OF THIS SOFTWARE, EVEN IF ADVISED OF THE POSSIBILITY OF SUCH DAMAGE.\n",
      "\n",
      "Location: /opt/anaconda3/lib/python3.13/site-packages\n",
      "Requires: \n",
      "Required-by: astropy, bokeh, Bottleneck, contourpy, datashader, h5py, holoviews, hvplot, imageio, imbalanced-learn, matplotlib, numba, numexpr, pandas, patsy, pyerfa, PyWavelets, scikit-image, scikit-learn, scipy, seaborn, statsmodels, streamlit, tables, tifffile, wordcloud, xarray\n",
      "Note: you may need to restart the kernel to use updated packages.\n"
     ]
    }
   ],
   "source": [
    "pip show numpy"
   ]
  },
  {
   "cell_type": "markdown",
   "id": "6431a6e6-d71f-419c-81bd-6491c288a02d",
   "metadata": {},
   "source": [
    "### 8 import numpy package \n",
    "- We can import numpy package by using import"
   ]
  },
  {
   "cell_type": "code",
   "execution_count": 2,
   "id": "6c361243-9b65-4640-a596-3274381d47cc",
   "metadata": {},
   "outputs": [
    {
     "name": "stdout",
     "output_type": "stream",
     "text": [
      "numpy imported successfully\n"
     ]
    }
   ],
   "source": [
    "# importing numpy package\n",
    "\n",
    "import numpy \n",
    "print('numpy imported successfully')"
   ]
  },
  {
   "cell_type": "code",
   "execution_count": 3,
   "id": "da55443e-81f3-4b85-9132-844226c56cce",
   "metadata": {},
   "outputs": [],
   "source": [
    "# alias names\n",
    "import pandas as pd\n",
    "import seaborn as sns\n",
    "import matplotlib.pyplot as plt\n",
    "import numpy as np"
   ]
  },
  {
   "cell_type": "markdown",
   "id": "8291f088-2046-4aa3-9a16-9f723cb9c842",
   "metadata": {},
   "source": [
    "### 9. ModuleNotFoundError\n",
    "- If numpy is not installed then we will get below error."
   ]
  },
  {
   "cell_type": "markdown",
   "id": "5f8aa69d-fbba-4a79-844e-29d7f6795b53",
   "metadata": {},
   "source": [
    "### 10 Famous Alias name to Numpy\n",
    "- We can give alias name to numpy\n",
    "- Note this name can be any name but the famous alias name is np\n",
    "  "
   ]
  },
  {
   "cell_type": "code",
   "execution_count": 4,
   "id": "68421763-e6cd-4e04-8660-fd986f569de6",
   "metadata": {},
   "outputs": [
    {
     "name": "stdout",
     "output_type": "stream",
     "text": [
      "numpy imported successfully\n"
     ]
    }
   ],
   "source": [
    "# alias name to numpy\n",
    "import numpy as np\n",
    "print('numpy imported successfully')"
   ]
  },
  {
   "cell_type": "code",
   "execution_count": null,
   "id": "527eee18-e05b-483d-a543-c825f6de4889",
   "metadata": {},
   "outputs": [],
   "source": []
  }
 ],
 "metadata": {
  "kernelspec": {
   "display_name": "Python 3 (ipykernel)",
   "language": "python",
   "name": "python3"
  },
  "language_info": {
   "codemirror_mode": {
    "name": "ipython",
    "version": 3
   },
   "file_extension": ".py",
   "mimetype": "text/x-python",
   "name": "python",
   "nbconvert_exporter": "python",
   "pygments_lexer": "ipython3",
   "version": "3.13.5"
  }
 },
 "nbformat": 4,
 "nbformat_minor": 5
}
