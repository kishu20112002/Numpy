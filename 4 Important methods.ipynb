{
 "cells": [
  {
   "cell_type": "markdown",
   "id": "8a2bec3f-916b-49e0-ad2d-6040acfa5516",
   "metadata": {},
   "source": [
    "# 4 Numpy - important methods"
   ]
  },
  {
   "cell_type": "markdown",
   "id": "0c99ba8c-305b-49ba-bd59-4283089453c5",
   "metadata": {},
   "source": [
    "### 1 Numpy Array methods\n",
    "- Numpy array having predefined method to preform different operations over array"
   ]
  },
  {
   "cell_type": "markdown",
   "id": "2985b126-8ea7-4b53-a6f3-e1b7dffc7e55",
   "metadata": {},
   "source": [
    "### 2 min() method\n",
    "- min() is a predefined method in numpy array\n",
    "- We should access this min() method by using numpy array object\n",
    "- By using this we can check minimum value from the array"
   ]
  },
  {
   "cell_type": "code",
   "execution_count": 2,
   "id": "cf3391fb-86a8-4638-ad29-970cce90dc2d",
   "metadata": {},
   "outputs": [
    {
     "name": "stdout",
     "output_type": "stream",
     "text": [
      "[[10, 20, 30], [40, 30, 23]]\n",
      "\n",
      "10\n"
     ]
    }
   ],
   "source": [
    "# min() method\n",
    "import numpy as np\n",
    "d=[[10,20,30],[40,30,23]]\n",
    "s=np.array(d)\n",
    "\n",
    "print(d)\n",
    "print()\n",
    "print(s.min())"
   ]
  },
  {
   "cell_type": "code",
   "execution_count": 4,
   "id": "665bb9eb-97bb-49a8-ad36-0b44d3fe38b9",
   "metadata": {},
   "outputs": [
    {
     "name": "stdout",
     "output_type": "stream",
     "text": [
      "[[10 20 30]\n",
      " [40 30 23]]\n",
      "\n",
      "10\n"
     ]
    }
   ],
   "source": [
    "# min() method\n",
    "import numpy as np\n",
    "d=np.array([[10,20,30],[40,30,23]])\n",
    "s=np.array(d)\n",
    "\n",
    "print(d)\n",
    "print()\n",
    "print(s.min())"
   ]
  },
  {
   "cell_type": "markdown",
   "id": "bb8081c2-5248-4020-b4f3-e0d9b0ed9bd9",
   "metadata": {},
   "source": [
    "### 3 Max method\n",
    "- max() is a predifined method in numpy array\n",
    "- We should access this max() method by using numpy array object\n",
    "- By using this we can check maximum value from the array"
   ]
  },
  {
   "cell_type": "code",
   "execution_count": 5,
   "id": "8d14fd1b-9c99-4d23-989e-71da57d51a9a",
   "metadata": {},
   "outputs": [
    {
     "name": "stdout",
     "output_type": "stream",
     "text": [
      "[[10 23 45 66]\n",
      " [23 43 24 52]]\n",
      "\n",
      "66\n"
     ]
    }
   ],
   "source": [
    "# Max method\n",
    "\n",
    "import numpy as np\n",
    "\n",
    "d=np.array([[10,23,45,66],[23,43,24,52]])\n",
    "s=np.array(d)\n",
    "\n",
    "print(d)\n",
    "print()\n",
    "print(s.max())\n"
   ]
  },
  {
   "cell_type": "markdown",
   "id": "16734165-b37f-4f7f-8a56-8d2f0bccbc58",
   "metadata": {},
   "source": [
    "# 4 sum() method\n",
    "- sum() is a predefined method in numpy array we should access this method by using numpy array object\n",
    "- By using this we can get sum of all values from array"
   ]
  },
  {
   "cell_type": "code",
   "execution_count": 7,
   "id": "7a4a3dda-14da-4f8b-bca7-0abc77e56c62",
   "metadata": {},
   "outputs": [
    {
     "name": "stdout",
     "output_type": "stream",
     "text": [
      "[[10 30 40]\n",
      " [43 53 53]]\n",
      "\n",
      "229\n"
     ]
    }
   ],
   "source": [
    "# sum method\n",
    "\n",
    "import numpy as np\n",
    "\n",
    "d=np.array([[10,30,40],[43,53,53]])\n",
    "s=np.array(d)\n",
    "\n",
    "print(d)\n",
    "print()\n",
    "print(s.sum())"
   ]
  },
  {
   "cell_type": "markdown",
   "id": "39dd8911-884a-41e0-b38e-ded30176f256",
   "metadata": {},
   "source": [
    "### 5 reshape()method  imp\n",
    "- reshape() is a predefined method in numpy array\n",
    "- We should access this method by using numpy array object\n",
    "- By using this we can change the shape of on array\n",
    "  "
   ]
  },
  {
   "cell_type": "code",
   "execution_count": 16,
   "id": "15b559ce-db71-48f1-a861-be3785910566",
   "metadata": {},
   "outputs": [
    {
     "name": "stdout",
     "output_type": "stream",
     "text": [
      "[[10 20 30]\n",
      " [40 50 60]]\n",
      "\n",
      "[[10 20]\n",
      " [30 40]\n",
      " [50 60]]\n"
     ]
    }
   ],
   "source": [
    "# reshape()method\n",
    "\n",
    "import numpy as np\n",
    "d=np.array([[10,20,30],[40,50,60]])\n",
    "s=np.array(d)\n",
    "\n",
    "print(d)\n",
    "print()\n",
    "print(s.reshape(3,2))"
   ]
  },
  {
   "cell_type": "code",
   "execution_count": 17,
   "id": "423a3781-5403-4ee0-b9f7-218df63d11af",
   "metadata": {},
   "outputs": [
    {
     "name": "stdout",
     "output_type": "stream",
     "text": [
      "[[10 20 30]\n",
      " [40 50 60]]\n",
      "\n",
      "[[10 20 30 40 50 60]]\n"
     ]
    }
   ],
   "source": [
    "import numpy as np\n",
    "d=np.array([[10,20,30],[40,50,60]])\n",
    "s=np.array(d)\n",
    "\n",
    "print(d)\n",
    "print()\n",
    "print(s.reshape(1,6))"
   ]
  },
  {
   "cell_type": "code",
   "execution_count": 18,
   "id": "6a322b28-97b1-4dc4-a957-b24e074543c5",
   "metadata": {},
   "outputs": [
    {
     "name": "stdout",
     "output_type": "stream",
     "text": [
      "[[10 20 30]\n",
      " [40 50 60]]\n",
      "\n",
      "[[10]\n",
      " [20]\n",
      " [30]\n",
      " [40]\n",
      " [50]\n",
      " [60]]\n"
     ]
    }
   ],
   "source": [
    "import numpy as np\n",
    "d=np.array([[10,20,30],[40,50,60]])\n",
    "s=np.array(d)\n",
    "\n",
    "print(d)\n",
    "print()\n",
    "print(s.reshape(6,1))"
   ]
  },
  {
   "cell_type": "markdown",
   "id": "7c854c46-9b6b-47d8-8721-3c1274087940",
   "metadata": {},
   "source": [
    "### 6.count_nonzero(p) function\n",
    "- count_nonzero(p) is a predefined function in numpy array\n",
    "- We should access this function by using numpy\n",
    "- By using this we can get non zero values from numpy"
   ]
  },
  {
   "cell_type": "code",
   "execution_count": 20,
   "id": "860b9aa3-7f6b-4267-a1da-f07a841f78a8",
   "metadata": {},
   "outputs": [
    {
     "name": "stdout",
     "output_type": "stream",
     "text": [
      "[[10  0 30]\n",
      " [40 50  0]]\n",
      "\n",
      "4\n"
     ]
    }
   ],
   "source": [
    "# count_nonzero(p) function\n",
    "\n",
    "import numpy as np\n",
    "\n",
    "d=np.array([[10,0,30],[40,50,0]])\n",
    "s=np.array(d)\n",
    "\n",
    "print(d)\n",
    "print()\n",
    "print(np.count_nonzero(s))"
   ]
  },
  {
   "cell_type": "markdown",
   "id": "4dca6c23-b7f3-4f6e-8576-d5b1d9ed8032",
   "metadata": {},
   "source": [
    "### 7 sort() method\n",
    "- sort() is a predefined method in numpy array\n",
    "- We should access this method by using numpy array object\n",
    "- by using this we can aort values in array\n",
    "  "
   ]
  },
  {
   "cell_type": "code",
   "execution_count": 26,
   "id": "312c82d7-818d-4317-9923-3397cecf55aa",
   "metadata": {},
   "outputs": [
    {
     "name": "stdout",
     "output_type": "stream",
     "text": [
      "[[55 13 12]\n",
      " [99  2  1]]\n",
      "\n",
      "[[12 13 55]\n",
      " [ 1  2 99]]\n"
     ]
    }
   ],
   "source": [
    "# sort() method\n",
    "\n",
    "import numpy as np\n",
    "d=np.array([[55,13,12],[99,2,1]])\n",
    "s=np.array(d)\n",
    "\n",
    "print(s)\n",
    "s.sort()\n",
    "\n",
    "print()\n",
    "\n",
    "print(s)\n"
   ]
  },
  {
   "cell_type": "markdown",
   "id": "5da44cc5-8107-4d53-b05b-3a760221ee4d",
   "metadata": {},
   "source": [
    "### 8 flatten() method\n",
    "- flatten() is a predefined method in numpy array\n",
    "- We should access this method by using numpy array object\n",
    "- This method keeps all values in one dimension array"
   ]
  },
  {
   "cell_type": "code",
   "execution_count": 28,
   "id": "193ea3ae-78b9-4a8b-a2fa-bc6be39ebbca",
   "metadata": {},
   "outputs": [
    {
     "name": "stdout",
     "output_type": "stream",
     "text": [
      "[[10 20 30]\n",
      " [40 50 60]]\n",
      "\n",
      "[10 20 30 40 50 60]\n"
     ]
    }
   ],
   "source": [
    "# Flatten() method\n",
    "\n",
    "import numpy as np\n",
    "\n",
    "d=np.array([[10,20,30],[40,50,60]])\n",
    "s=np.array(d)\n",
    "\n",
    "print(s)\n",
    "print()\n",
    "print(s.flatten())"
   ]
  },
  {
   "cell_type": "markdown",
   "id": "43b0fd60-9307-4c2d-876f-f6d87ae876a3",
   "metadata": {},
   "source": [
    "### 9 . adding value to array of values\n",
    "- based on requirement we can add value to array of values.\n"
   ]
  },
  {
   "cell_type": "code",
   "execution_count": 29,
   "id": "cc6cb390-96d8-4dfb-bce7-5fe3e1a723aa",
   "metadata": {},
   "outputs": [
    {
     "name": "stdout",
     "output_type": "stream",
     "text": [
      "[[10 20 30]\n",
      " [40 50 60]]\n",
      "\n",
      "[[12 22 32]\n",
      " [42 52 62]]\n"
     ]
    }
   ],
   "source": [
    "# Adding value to array of values\n",
    "\n",
    "import numpy as np\n",
    "d=np.array([[10,20,30],[40,50,60]])\n",
    "s=np.array(d)\n",
    "print(s)\n",
    "print()\n",
    "print(s+2)"
   ]
  },
  {
   "cell_type": "markdown",
   "id": "37300d41-d333-4471-95ba-3aa75a49a092",
   "metadata": {},
   "source": [
    "### 10 Diagonal of a matrix\n",
    "- Diagonal elements of a matrix"
   ]
  },
  {
   "cell_type": "code",
   "execution_count": 32,
   "id": "bba39815-6e68-4543-ae3e-ad58aac9b5da",
   "metadata": {},
   "outputs": [
    {
     "name": "stdout",
     "output_type": "stream",
     "text": [
      "[[1 2 3]\n",
      " [4 5 6]\n",
      " [7 8 9]]\n",
      "\n",
      "[1 5 9]\n"
     ]
    }
   ],
   "source": [
    "# Diagonal()  matrix \n",
    "\n",
    "import numpy as np\n",
    "matrix=np.array([[1,2,3],[4,5,6],[7,8,9]])\n",
    "\n",
    "print(matrix)\n",
    "print()\n",
    "print(matrix.diagonal())\n"
   ]
  },
  {
   "cell_type": "markdown",
   "id": "41384d3a-9ae5-40f7-8c19-a81e715919bd",
   "metadata": {},
   "source": [
    "### 11 Trace of a matrix\n",
    "- The trace of a matrix is the sum of the diagonal elements"
   ]
  },
  {
   "cell_type": "code",
   "execution_count": 33,
   "id": "df086215-30b0-4f28-90b2-75c1d1fa2280",
   "metadata": {},
   "outputs": [
    {
     "name": "stdout",
     "output_type": "stream",
     "text": [
      "[[1 2 3]\n",
      " [4 5 6]\n",
      " [7 8 9]]\n",
      "\n",
      "15\n"
     ]
    }
   ],
   "source": [
    "# Trace of the matrix\n",
    "\n",
    "import numpy as np\n",
    "matrix=np.array([[1,2,3],[4,5,6],[7,8,9]])\n",
    "\n",
    "print(matrix)\n",
    "print()\n",
    "print(matrix.trace())"
   ]
  },
  {
   "cell_type": "code",
   "execution_count": 34,
   "id": "9384a1fb-392e-4f25-9e07-6bc5e418d0e1",
   "metadata": {},
   "outputs": [
    {
     "name": "stdout",
     "output_type": "stream",
     "text": [
      "[[1 2 3]\n",
      " [4 5 6]\n",
      " [7 8 9]]\n",
      "\n",
      "15\n"
     ]
    }
   ],
   "source": [
    "# Trace of the matrix\n",
    "\n",
    "import numpy as np\n",
    "matrix=np.array([[1,2,3],[4,5,6],[7,8,9]])\n",
    "\n",
    "print(matrix)\n",
    "print()\n",
    "print(sum(matrix.diagonal()))"
   ]
  },
  {
   "cell_type": "markdown",
   "id": "3e39d65e-7976-4b2b-a6cd-3d480daf2d70",
   "metadata": {},
   "source": [
    "### 12 Adding and subtracting matrices\n",
    "- we can add and subtract two matrics\n",
    "- We need to call and subtract functions"
   ]
  },
  {
   "cell_type": "code",
   "execution_count": 36,
   "id": "368bfe63-2c29-406c-a0cb-a67b39c3a4a4",
   "metadata": {},
   "outputs": [
    {
     "name": "stdout",
     "output_type": "stream",
     "text": [
      "[[1 1 1]\n",
      " [1 1 1]\n",
      " [1 1 2]]\n",
      "\n",
      "[[1 3 1]\n",
      " [1 3 1]\n",
      " [1 3 8]]\n",
      "\n",
      "add\n",
      "[[ 2  4  2]\n",
      " [ 2  4  2]\n",
      " [ 2  4 10]]\n"
     ]
    }
   ],
   "source": [
    "# Adding two matrices\n",
    "\n",
    "import numpy as np\n",
    "\n",
    "m_a=np.array([[1,1,1],[1,1,1],[1,1,2]])\n",
    "m_b=np.array([[1,3,1],[1,3,1],[1,3,8]])\n",
    "\n",
    "print(m_a)\n",
    "print()\n",
    "print(m_b)\n",
    "print()\n",
    "print('add')\n",
    "print(np.add(m_a,m_b))"
   ]
  },
  {
   "cell_type": "code",
   "execution_count": 38,
   "id": "4e4f6505-b2be-49de-aa96-0f63b2041396",
   "metadata": {},
   "outputs": [
    {
     "name": "stdout",
     "output_type": "stream",
     "text": [
      "[[1 1 1]\n",
      " [1 1 1]\n",
      " [1 1 2]]\n",
      "\n",
      "[[1 3 1]\n",
      " [1 3 1]\n",
      " [1 3 8]]\n",
      "\n",
      "add\n",
      "[[ 0 -2  0]\n",
      " [ 0 -2  0]\n",
      " [ 0 -2 -6]]\n"
     ]
    }
   ],
   "source": [
    "# subtract two matrices\n",
    "import numpy as np\n",
    "\n",
    "m_a=np.array([[1,1,1],[1,1,1],[1,1,2]])\n",
    "m_b=np.array([[1,3,1],[1,3,1],[1,3,8]])\n",
    "\n",
    "print(m_a)\n",
    "print()\n",
    "print(m_b)\n",
    "print()\n",
    "print('add')\n",
    "print(np.subtract(m_a,m_b))"
   ]
  },
  {
   "cell_type": "code",
   "execution_count": 43,
   "id": "845bddb9-d168-42ae-8711-19ea12b7c272",
   "metadata": {},
   "outputs": [
    {
     "name": "stdout",
     "output_type": "stream",
     "text": [
      "[[1 1 1]\n",
      " [1 1 1]\n",
      " [1 1 2]]\n",
      "\n",
      "[[1 3 1]\n",
      " [1 3 1]\n",
      " [1 3 8]]\n",
      "\n",
      "add\n",
      "[[ 2  4  2]\n",
      " [ 2  4  2]\n",
      " [ 2  4 10]]\n"
     ]
    }
   ],
   "source": [
    "# Adding two matrices\n",
    "\n",
    "import numpy as np\n",
    "\n",
    "m_a=np.array([[1,1,1],[1,1,1],[1,1,2]])\n",
    "m_b=np.array([[1,3,1],[1,3,1],[1,3,8]])\n",
    "\n",
    "print(m_a)\n",
    "print()\n",
    "print(m_b)\n",
    "print()\n",
    "print('add')\n",
    "print(m_a + m_b)"
   ]
  },
  {
   "cell_type": "code",
   "execution_count": 41,
   "id": "d2103bef-6876-452c-8c87-3b4c70631d8a",
   "metadata": {},
   "outputs": [
    {
     "name": "stdout",
     "output_type": "stream",
     "text": [
      "[[1 1 1]\n",
      " [1 1 1]\n",
      " [1 1 2]]\n",
      "\n",
      "[[1 3 1]\n",
      " [1 3 1]\n",
      " [1 3 8]]\n",
      "\n",
      "sub\n",
      "[[ 0 -2  0]\n",
      " [ 0 -2  0]\n",
      " [ 0 -2 -6]]\n"
     ]
    }
   ],
   "source": [
    "# subtract two matrices\n",
    "import numpy as np\n",
    "\n",
    "m_a=np.array([[1,1,1],[1,1,1],[1,1,2]])\n",
    "m_b=np.array([[1,3,1],[1,3,1],[1,3,8]])\n",
    "\n",
    "print(m_a)\n",
    "print()\n",
    "print(m_b)\n",
    "print()\n",
    "print('sub')\n",
    "print(m_a - m_b)\n"
   ]
  },
  {
   "cell_type": "code",
   "execution_count": null,
   "id": "51472809-9eb2-4f33-b13c-fce5954e0f2a",
   "metadata": {},
   "outputs": [],
   "source": []
  }
 ],
 "metadata": {
  "kernelspec": {
   "display_name": "Python 3 (ipykernel)",
   "language": "python",
   "name": "python3"
  },
  "language_info": {
   "codemirror_mode": {
    "name": "ipython",
    "version": 3
   },
   "file_extension": ".py",
   "mimetype": "text/x-python",
   "name": "python",
   "nbconvert_exporter": "python",
   "pygments_lexer": "ipython3",
   "version": "3.13.5"
  }
 },
 "nbformat": 4,
 "nbformat_minor": 5
}
